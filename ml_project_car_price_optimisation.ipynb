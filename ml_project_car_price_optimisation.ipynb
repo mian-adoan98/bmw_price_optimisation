{
 "cells": [
  {
   "cell_type": "markdown",
   "metadata": {},
   "source": [
    "## ML Project: BMW car Price Optimisation\n"
   ]
  },
  {
   "cell_type": "code",
   "execution_count": 1,
   "metadata": {},
   "outputs": [],
   "source": [
    "# import libraries for data mining\n",
    "import numpy as np\n",
    "import pandas as pd\n",
    "# import libraries for data visualisation\n",
    "import matplotlib.pyplot as plt\n",
    "import seaborn as sns"
   ]
  },
  {
   "cell_type": "code",
   "execution_count": 2,
   "metadata": {},
   "outputs": [],
   "source": [
    "# load dataset\n",
    "csales_dt = pd.read_csv(\"bmw_pricing_challenge.csv\")"
   ]
  },
  {
   "cell_type": "markdown",
   "metadata": {},
   "source": [
    "### Descriptive Analysis"
   ]
  },
  {
   "cell_type": "code",
   "execution_count": 3,
   "metadata": {},
   "outputs": [
    {
     "data": {
      "text/html": [
       "<div>\n",
       "<style scoped>\n",
       "    .dataframe tbody tr th:only-of-type {\n",
       "        vertical-align: middle;\n",
       "    }\n",
       "\n",
       "    .dataframe tbody tr th {\n",
       "        vertical-align: top;\n",
       "    }\n",
       "\n",
       "    .dataframe thead th {\n",
       "        text-align: right;\n",
       "    }\n",
       "</style>\n",
       "<table border=\"1\" class=\"dataframe\">\n",
       "  <thead>\n",
       "    <tr style=\"text-align: right;\">\n",
       "      <th></th>\n",
       "      <th>maker_key</th>\n",
       "      <th>model_key</th>\n",
       "      <th>mileage</th>\n",
       "      <th>engine_power</th>\n",
       "      <th>registration_date</th>\n",
       "      <th>fuel</th>\n",
       "      <th>paint_color</th>\n",
       "      <th>car_type</th>\n",
       "      <th>feature_1</th>\n",
       "      <th>feature_2</th>\n",
       "      <th>feature_3</th>\n",
       "      <th>feature_4</th>\n",
       "      <th>feature_5</th>\n",
       "      <th>feature_6</th>\n",
       "      <th>feature_7</th>\n",
       "      <th>feature_8</th>\n",
       "      <th>price</th>\n",
       "      <th>sold_at</th>\n",
       "    </tr>\n",
       "  </thead>\n",
       "  <tbody>\n",
       "    <tr>\n",
       "      <th>0</th>\n",
       "      <td>BMW</td>\n",
       "      <td>118</td>\n",
       "      <td>140411</td>\n",
       "      <td>100</td>\n",
       "      <td>2012-02-01</td>\n",
       "      <td>diesel</td>\n",
       "      <td>black</td>\n",
       "      <td>convertible</td>\n",
       "      <td>True</td>\n",
       "      <td>True</td>\n",
       "      <td>False</td>\n",
       "      <td>False</td>\n",
       "      <td>True</td>\n",
       "      <td>True</td>\n",
       "      <td>True</td>\n",
       "      <td>False</td>\n",
       "      <td>11300</td>\n",
       "      <td>2018-01-01</td>\n",
       "    </tr>\n",
       "    <tr>\n",
       "      <th>1</th>\n",
       "      <td>BMW</td>\n",
       "      <td>M4</td>\n",
       "      <td>13929</td>\n",
       "      <td>317</td>\n",
       "      <td>2016-04-01</td>\n",
       "      <td>petrol</td>\n",
       "      <td>grey</td>\n",
       "      <td>convertible</td>\n",
       "      <td>True</td>\n",
       "      <td>True</td>\n",
       "      <td>False</td>\n",
       "      <td>False</td>\n",
       "      <td>False</td>\n",
       "      <td>True</td>\n",
       "      <td>True</td>\n",
       "      <td>True</td>\n",
       "      <td>69700</td>\n",
       "      <td>2018-02-01</td>\n",
       "    </tr>\n",
       "    <tr>\n",
       "      <th>2</th>\n",
       "      <td>BMW</td>\n",
       "      <td>320</td>\n",
       "      <td>183297</td>\n",
       "      <td>120</td>\n",
       "      <td>2012-04-01</td>\n",
       "      <td>diesel</td>\n",
       "      <td>white</td>\n",
       "      <td>convertible</td>\n",
       "      <td>False</td>\n",
       "      <td>False</td>\n",
       "      <td>False</td>\n",
       "      <td>False</td>\n",
       "      <td>True</td>\n",
       "      <td>False</td>\n",
       "      <td>True</td>\n",
       "      <td>False</td>\n",
       "      <td>10200</td>\n",
       "      <td>2018-02-01</td>\n",
       "    </tr>\n",
       "    <tr>\n",
       "      <th>3</th>\n",
       "      <td>BMW</td>\n",
       "      <td>420</td>\n",
       "      <td>128035</td>\n",
       "      <td>135</td>\n",
       "      <td>2014-07-01</td>\n",
       "      <td>diesel</td>\n",
       "      <td>red</td>\n",
       "      <td>convertible</td>\n",
       "      <td>True</td>\n",
       "      <td>True</td>\n",
       "      <td>False</td>\n",
       "      <td>False</td>\n",
       "      <td>True</td>\n",
       "      <td>True</td>\n",
       "      <td>True</td>\n",
       "      <td>True</td>\n",
       "      <td>25100</td>\n",
       "      <td>2018-02-01</td>\n",
       "    </tr>\n",
       "    <tr>\n",
       "      <th>4</th>\n",
       "      <td>BMW</td>\n",
       "      <td>425</td>\n",
       "      <td>97097</td>\n",
       "      <td>160</td>\n",
       "      <td>2014-12-01</td>\n",
       "      <td>diesel</td>\n",
       "      <td>silver</td>\n",
       "      <td>convertible</td>\n",
       "      <td>True</td>\n",
       "      <td>True</td>\n",
       "      <td>False</td>\n",
       "      <td>False</td>\n",
       "      <td>False</td>\n",
       "      <td>True</td>\n",
       "      <td>True</td>\n",
       "      <td>True</td>\n",
       "      <td>33400</td>\n",
       "      <td>2018-04-01</td>\n",
       "    </tr>\n",
       "  </tbody>\n",
       "</table>\n",
       "</div>"
      ],
      "text/plain": [
       "  maker_key model_key  mileage  engine_power registration_date    fuel  \\\n",
       "0       BMW       118   140411           100        2012-02-01  diesel   \n",
       "1       BMW        M4    13929           317        2016-04-01  petrol   \n",
       "2       BMW       320   183297           120        2012-04-01  diesel   \n",
       "3       BMW       420   128035           135        2014-07-01  diesel   \n",
       "4       BMW       425    97097           160        2014-12-01  diesel   \n",
       "\n",
       "  paint_color     car_type  feature_1  feature_2  feature_3  feature_4  \\\n",
       "0       black  convertible       True       True      False      False   \n",
       "1        grey  convertible       True       True      False      False   \n",
       "2       white  convertible      False      False      False      False   \n",
       "3         red  convertible       True       True      False      False   \n",
       "4      silver  convertible       True       True      False      False   \n",
       "\n",
       "   feature_5  feature_6  feature_7  feature_8  price     sold_at  \n",
       "0       True       True       True      False  11300  2018-01-01  \n",
       "1      False       True       True       True  69700  2018-02-01  \n",
       "2       True      False       True      False  10200  2018-02-01  \n",
       "3       True       True       True       True  25100  2018-02-01  \n",
       "4      False       True       True       True  33400  2018-04-01  "
      ]
     },
     "execution_count": 3,
     "metadata": {},
     "output_type": "execute_result"
    }
   ],
   "source": [
    "csales_dt.tail()\n",
    "csales_dt.head()"
   ]
  },
  {
   "cell_type": "code",
   "execution_count": 4,
   "metadata": {},
   "outputs": [
    {
     "name": "stdout",
     "output_type": "stream",
     "text": [
      "<class 'pandas.core.frame.DataFrame'>\n",
      "RangeIndex: 4843 entries, 0 to 4842\n",
      "Data columns (total 18 columns):\n",
      " #   Column             Non-Null Count  Dtype \n",
      "---  ------             --------------  ----- \n",
      " 0   maker_key          4843 non-null   object\n",
      " 1   model_key          4843 non-null   object\n",
      " 2   mileage            4843 non-null   int64 \n",
      " 3   engine_power       4843 non-null   int64 \n",
      " 4   registration_date  4843 non-null   object\n",
      " 5   fuel               4843 non-null   object\n",
      " 6   paint_color        4843 non-null   object\n",
      " 7   car_type           4843 non-null   object\n",
      " 8   feature_1          4843 non-null   bool  \n",
      " 9   feature_2          4843 non-null   bool  \n",
      " 10  feature_3          4843 non-null   bool  \n",
      " 11  feature_4          4843 non-null   bool  \n",
      " 12  feature_5          4843 non-null   bool  \n",
      " 13  feature_6          4843 non-null   bool  \n",
      " 14  feature_7          4843 non-null   bool  \n",
      " 15  feature_8          4843 non-null   bool  \n",
      " 16  price              4843 non-null   int64 \n",
      " 17  sold_at            4843 non-null   object\n",
      "dtypes: bool(8), int64(3), object(7)\n",
      "memory usage: 416.3+ KB\n"
     ]
    }
   ],
   "source": [
    "csales_dt.info()"
   ]
  },
  {
   "cell_type": "code",
   "execution_count": 5,
   "metadata": {},
   "outputs": [
    {
     "data": {
      "text/html": [
       "<div>\n",
       "<style scoped>\n",
       "    .dataframe tbody tr th:only-of-type {\n",
       "        vertical-align: middle;\n",
       "    }\n",
       "\n",
       "    .dataframe tbody tr th {\n",
       "        vertical-align: top;\n",
       "    }\n",
       "\n",
       "    .dataframe thead th {\n",
       "        text-align: right;\n",
       "    }\n",
       "</style>\n",
       "<table border=\"1\" class=\"dataframe\">\n",
       "  <thead>\n",
       "    <tr style=\"text-align: right;\">\n",
       "      <th></th>\n",
       "      <th>mileage</th>\n",
       "      <th>engine_power</th>\n",
       "      <th>price</th>\n",
       "    </tr>\n",
       "  </thead>\n",
       "  <tbody>\n",
       "    <tr>\n",
       "      <th>count</th>\n",
       "      <td>4.843000e+03</td>\n",
       "      <td>4843.00000</td>\n",
       "      <td>4843.000000</td>\n",
       "    </tr>\n",
       "    <tr>\n",
       "      <th>mean</th>\n",
       "      <td>1.409628e+05</td>\n",
       "      <td>128.98823</td>\n",
       "      <td>15828.081767</td>\n",
       "    </tr>\n",
       "    <tr>\n",
       "      <th>std</th>\n",
       "      <td>6.019674e+04</td>\n",
       "      <td>38.99336</td>\n",
       "      <td>9220.285684</td>\n",
       "    </tr>\n",
       "    <tr>\n",
       "      <th>min</th>\n",
       "      <td>-6.400000e+01</td>\n",
       "      <td>0.00000</td>\n",
       "      <td>100.000000</td>\n",
       "    </tr>\n",
       "    <tr>\n",
       "      <th>25%</th>\n",
       "      <td>1.029135e+05</td>\n",
       "      <td>100.00000</td>\n",
       "      <td>10800.000000</td>\n",
       "    </tr>\n",
       "    <tr>\n",
       "      <th>50%</th>\n",
       "      <td>1.410800e+05</td>\n",
       "      <td>120.00000</td>\n",
       "      <td>14200.000000</td>\n",
       "    </tr>\n",
       "    <tr>\n",
       "      <th>75%</th>\n",
       "      <td>1.751955e+05</td>\n",
       "      <td>135.00000</td>\n",
       "      <td>18600.000000</td>\n",
       "    </tr>\n",
       "    <tr>\n",
       "      <th>max</th>\n",
       "      <td>1.000376e+06</td>\n",
       "      <td>423.00000</td>\n",
       "      <td>178500.000000</td>\n",
       "    </tr>\n",
       "  </tbody>\n",
       "</table>\n",
       "</div>"
      ],
      "text/plain": [
       "            mileage  engine_power          price\n",
       "count  4.843000e+03    4843.00000    4843.000000\n",
       "mean   1.409628e+05     128.98823   15828.081767\n",
       "std    6.019674e+04      38.99336    9220.285684\n",
       "min   -6.400000e+01       0.00000     100.000000\n",
       "25%    1.029135e+05     100.00000   10800.000000\n",
       "50%    1.410800e+05     120.00000   14200.000000\n",
       "75%    1.751955e+05     135.00000   18600.000000\n",
       "max    1.000376e+06     423.00000  178500.000000"
      ]
     },
     "execution_count": 5,
     "metadata": {},
     "output_type": "execute_result"
    }
   ],
   "source": [
    "# numerical summary statistics\n",
    "csales_dt.describe()"
   ]
  },
  {
   "cell_type": "code",
   "execution_count": 6,
   "metadata": {},
   "outputs": [
    {
     "data": {
      "text/html": [
       "<div>\n",
       "<style scoped>\n",
       "    .dataframe tbody tr th:only-of-type {\n",
       "        vertical-align: middle;\n",
       "    }\n",
       "\n",
       "    .dataframe tbody tr th {\n",
       "        vertical-align: top;\n",
       "    }\n",
       "\n",
       "    .dataframe thead th {\n",
       "        text-align: right;\n",
       "    }\n",
       "</style>\n",
       "<table border=\"1\" class=\"dataframe\">\n",
       "  <thead>\n",
       "    <tr style=\"text-align: right;\">\n",
       "      <th></th>\n",
       "      <th>maker_key</th>\n",
       "      <th>model_key</th>\n",
       "      <th>registration_date</th>\n",
       "      <th>fuel</th>\n",
       "      <th>paint_color</th>\n",
       "      <th>car_type</th>\n",
       "      <th>sold_at</th>\n",
       "    </tr>\n",
       "  </thead>\n",
       "  <tbody>\n",
       "    <tr>\n",
       "      <th>count</th>\n",
       "      <td>4843</td>\n",
       "      <td>4843</td>\n",
       "      <td>4843</td>\n",
       "      <td>4843</td>\n",
       "      <td>4843</td>\n",
       "      <td>4843</td>\n",
       "      <td>4843</td>\n",
       "    </tr>\n",
       "    <tr>\n",
       "      <th>unique</th>\n",
       "      <td>1</td>\n",
       "      <td>75</td>\n",
       "      <td>199</td>\n",
       "      <td>4</td>\n",
       "      <td>10</td>\n",
       "      <td>8</td>\n",
       "      <td>9</td>\n",
       "    </tr>\n",
       "    <tr>\n",
       "      <th>top</th>\n",
       "      <td>BMW</td>\n",
       "      <td>320</td>\n",
       "      <td>2013-07-01</td>\n",
       "      <td>diesel</td>\n",
       "      <td>black</td>\n",
       "      <td>estate</td>\n",
       "      <td>2018-05-01</td>\n",
       "    </tr>\n",
       "    <tr>\n",
       "      <th>freq</th>\n",
       "      <td>4843</td>\n",
       "      <td>752</td>\n",
       "      <td>173</td>\n",
       "      <td>4641</td>\n",
       "      <td>1633</td>\n",
       "      <td>1606</td>\n",
       "      <td>809</td>\n",
       "    </tr>\n",
       "  </tbody>\n",
       "</table>\n",
       "</div>"
      ],
      "text/plain": [
       "       maker_key model_key registration_date    fuel paint_color car_type  \\\n",
       "count       4843      4843              4843    4843        4843     4843   \n",
       "unique         1        75               199       4          10        8   \n",
       "top          BMW       320        2013-07-01  diesel       black   estate   \n",
       "freq        4843       752               173    4641        1633     1606   \n",
       "\n",
       "           sold_at  \n",
       "count         4843  \n",
       "unique           9  \n",
       "top     2018-05-01  \n",
       "freq           809  "
      ]
     },
     "execution_count": 6,
     "metadata": {},
     "output_type": "execute_result"
    }
   ],
   "source": [
    "# categorical description\n",
    "csales_dt.describe(include=\"object\")"
   ]
  },
  {
   "cell_type": "code",
   "execution_count": 7,
   "metadata": {},
   "outputs": [
    {
     "name": "stdout",
     "output_type": "stream",
     "text": [
      "Number of cars (rows): \t\t\t 4843\n",
      "Number of car features (columns): \t 18\n"
     ]
    }
   ],
   "source": [
    "cdata_shape = csales_dt.shape\n",
    "print(f\"Number of cars (rows): \\t\\t\\t {cdata_shape[0]}\")\n",
    "print(f\"Number of car features (columns): \\t {cdata_shape[1]}\")"
   ]
  },
  {
   "cell_type": "markdown",
   "metadata": {},
   "source": [
    "### Data Preprocessing"
   ]
  },
  {
   "cell_type": "code",
   "execution_count": 8,
   "metadata": {},
   "outputs": [
    {
     "data": {
      "text/plain": [
       "Index(['maker_key', 'model_key', 'mileage', 'engine_power',\n",
       "       'registration_date', 'fuel', 'paint_color', 'car_type', 'feature_1',\n",
       "       'feature_2', 'feature_3', 'feature_4', 'feature_5', 'feature_6',\n",
       "       'feature_7', 'feature_8', 'price', 'sold_at'],\n",
       "      dtype='object')"
      ]
     },
     "execution_count": 8,
     "metadata": {},
     "output_type": "execute_result"
    }
   ],
   "source": [
    "csales_dt.columns"
   ]
  },
  {
   "cell_type": "code",
   "execution_count": 9,
   "metadata": {},
   "outputs": [
    {
     "name": "stdout",
     "output_type": "stream",
     "text": [
      "Number of duplicated rows: 0\n"
     ]
    }
   ],
   "source": [
    "# identify duplicated rows\n",
    "num_dupl_rows = csales_dt.duplicated().sum()\n",
    "print(f\"Number of duplicated rows: {num_dupl_rows}\")"
   ]
  },
  {
   "cell_type": "code",
   "execution_count": 10,
   "metadata": {},
   "outputs": [],
   "source": [
    "# remove irrelevant features\n",
    "irr_features = ['maker_key','feature_1',\n",
    "       'feature_2', 'feature_3', 'feature_4', 'feature_5', 'feature_6',\n",
    "       'feature_7', 'feature_8']\n",
    "\n",
    "def remove_features(feature_list, data): \n",
    "  for feature in feature_list:\n",
    "    data = data.drop(columns=feature)\n",
    "  return data\n",
    "\n",
    "csales_dt = remove_features(irr_features, csales_dt)"
   ]
  },
  {
   "cell_type": "code",
   "execution_count": 11,
   "metadata": {},
   "outputs": [],
   "source": [
    "# rename feature names\n",
    "csales_dt = csales_dt.rename(columns={\n",
    "  \"model_key\":\"model\",\n",
    "  \"sold_at\": \"sales_date\",\n",
    "  \"price\": \"price_eur\"\n",
    "})"
   ]
  },
  {
   "cell_type": "code",
   "execution_count": 12,
   "metadata": {},
   "outputs": [
    {
     "data": {
      "text/html": [
       "<div>\n",
       "<style scoped>\n",
       "    .dataframe tbody tr th:only-of-type {\n",
       "        vertical-align: middle;\n",
       "    }\n",
       "\n",
       "    .dataframe tbody tr th {\n",
       "        vertical-align: top;\n",
       "    }\n",
       "\n",
       "    .dataframe thead th {\n",
       "        text-align: right;\n",
       "    }\n",
       "</style>\n",
       "<table border=\"1\" class=\"dataframe\">\n",
       "  <thead>\n",
       "    <tr style=\"text-align: right;\">\n",
       "      <th></th>\n",
       "      <th>model</th>\n",
       "      <th>mileage</th>\n",
       "      <th>engine_power</th>\n",
       "      <th>registration_date</th>\n",
       "      <th>fuel</th>\n",
       "      <th>paint_color</th>\n",
       "      <th>car_type</th>\n",
       "      <th>price_eur</th>\n",
       "      <th>sales_date</th>\n",
       "    </tr>\n",
       "  </thead>\n",
       "  <tbody>\n",
       "    <tr>\n",
       "      <th>0</th>\n",
       "      <td>118</td>\n",
       "      <td>140411</td>\n",
       "      <td>100</td>\n",
       "      <td>2012-02-01</td>\n",
       "      <td>diesel</td>\n",
       "      <td>black</td>\n",
       "      <td>convertible</td>\n",
       "      <td>11300</td>\n",
       "      <td>2018-01-01</td>\n",
       "    </tr>\n",
       "    <tr>\n",
       "      <th>1</th>\n",
       "      <td>M4</td>\n",
       "      <td>13929</td>\n",
       "      <td>317</td>\n",
       "      <td>2016-04-01</td>\n",
       "      <td>petrol</td>\n",
       "      <td>grey</td>\n",
       "      <td>convertible</td>\n",
       "      <td>69700</td>\n",
       "      <td>2018-02-01</td>\n",
       "    </tr>\n",
       "    <tr>\n",
       "      <th>2</th>\n",
       "      <td>320</td>\n",
       "      <td>183297</td>\n",
       "      <td>120</td>\n",
       "      <td>2012-04-01</td>\n",
       "      <td>diesel</td>\n",
       "      <td>white</td>\n",
       "      <td>convertible</td>\n",
       "      <td>10200</td>\n",
       "      <td>2018-02-01</td>\n",
       "    </tr>\n",
       "    <tr>\n",
       "      <th>3</th>\n",
       "      <td>420</td>\n",
       "      <td>128035</td>\n",
       "      <td>135</td>\n",
       "      <td>2014-07-01</td>\n",
       "      <td>diesel</td>\n",
       "      <td>red</td>\n",
       "      <td>convertible</td>\n",
       "      <td>25100</td>\n",
       "      <td>2018-02-01</td>\n",
       "    </tr>\n",
       "    <tr>\n",
       "      <th>4</th>\n",
       "      <td>425</td>\n",
       "      <td>97097</td>\n",
       "      <td>160</td>\n",
       "      <td>2014-12-01</td>\n",
       "      <td>diesel</td>\n",
       "      <td>silver</td>\n",
       "      <td>convertible</td>\n",
       "      <td>33400</td>\n",
       "      <td>2018-04-01</td>\n",
       "    </tr>\n",
       "  </tbody>\n",
       "</table>\n",
       "</div>"
      ],
      "text/plain": [
       "  model  mileage  engine_power registration_date    fuel paint_color  \\\n",
       "0   118   140411           100        2012-02-01  diesel       black   \n",
       "1    M4    13929           317        2016-04-01  petrol        grey   \n",
       "2   320   183297           120        2012-04-01  diesel       white   \n",
       "3   420   128035           135        2014-07-01  diesel         red   \n",
       "4   425    97097           160        2014-12-01  diesel      silver   \n",
       "\n",
       "      car_type  price_eur  sales_date  \n",
       "0  convertible      11300  2018-01-01  \n",
       "1  convertible      69700  2018-02-01  \n",
       "2  convertible      10200  2018-02-01  \n",
       "3  convertible      25100  2018-02-01  \n",
       "4  convertible      33400  2018-04-01  "
      ]
     },
     "execution_count": 12,
     "metadata": {},
     "output_type": "execute_result"
    }
   ],
   "source": [
    "csales_dt.head()"
   ]
  },
  {
   "cell_type": "markdown",
   "metadata": {},
   "source": [
    "### Univariate Analysis"
   ]
  },
  {
   "cell_type": "code",
   "execution_count": 13,
   "metadata": {},
   "outputs": [],
   "source": [
    "# feature understanding\n",
    "csales_dt[\"model\"].value_counts()\n",
    "# price feature\n",
    "price = csales_dt[\"price_eur\"]"
   ]
  },
  {
   "cell_type": "code",
   "execution_count": 14,
   "metadata": {},
   "outputs": [
    {
     "data": {
      "image/png": "[encoded data removed]",
      "text/plain": [
       "<Figure size 1500x400 with 2 Axes>"
      ]
     },
     "metadata": {},
     "output_type": "display_data"
    }
   ],
   "source": [
    "# visualise price distribution for registration date and sales date\n",
    "fig, price_dist = plt.subplots(1,2, figsize=(15,4))\n",
    "rd_price_dist = csales_dt.plot(kind=\"line\", x=\"registration_date\",y=\"price_eur\", ax=price_dist[0], color=\"blue\")\n",
    "sd_price_df = csales_dt.plot(kind=\"line\", x=\"sales_date\",y=\"price_eur\", ax=price_dist[1], color=\"purple\")\n",
    "\n",
    "# registration price distribution - graph details\n",
    "def add_graph_details(graph, x, y, title):\n",
    "  graph.set_xlabel(x)\n",
    "  graph.set_ylabel(y)\n",
    "  graph.set_title(title)\n",
    "  return graph\n",
    "\n",
    "title1 = \"Price Evolution Trend for Registered period\"\n",
    "title2 = \"Price Evolution Trend for Sales period\"\n",
    "rd_price_dist = add_graph_details(rd_price_dist, \"Registration Date\", \"Price (EUR)\", title1)\n",
    "sd_price_df = add_graph_details(sd_price_df, \"Sales Date\", \"Price (EUR)\", title2)"
   ]
  },
  {
   "cell_type": "code",
   "execution_count": 15,
   "metadata": {},
   "outputs": [],
   "source": [
    "rd_sales = csales_dt.groupby(\"registration_date\")[[\"price_eur\"]].sum().reset_index()\n",
    "sd_sales = csales_dt.groupby(\"sales_date\")[[\"price_eur\"]].sum().reset_index()\n",
    "\n",
    "# visualise sales trend\n",
    "def vis_sales_trend(sales_data, x, x_name, title, color, y_name=\"Price (EUR)\"): \n",
    "  trend = sales_data.plot(kind=\"line\", x=x, y=\"price_eur\", color=color, figsize=(14,3))\n",
    "  trend.set_xlabel(x_name)\n",
    "  trend.set_ylabel(y_name)\n",
    "  trend.set_title(title)\n",
    "  plt.show()\n",
    "  return trend"
   ]
  },
  {
   "cell_type": "code",
   "execution_count": 16,
   "metadata": {},
   "outputs": [
    {
     "data": {
      "text/html": [
       "<div>\n",
       "<style scoped>\n",
       "    .dataframe tbody tr th:only-of-type {\n",
       "        vertical-align: middle;\n",
       "    }\n",
       "\n",
       "    .dataframe tbody tr th {\n",
       "        vertical-align: top;\n",
       "    }\n",
       "\n",
       "    .dataframe thead th {\n",
       "        text-align: right;\n",
       "    }\n",
       "</style>\n",
       "<table border=\"1\" class=\"dataframe\">\n",
       "  <thead>\n",
       "    <tr style=\"text-align: right;\">\n",
       "      <th></th>\n",
       "      <th>sales_date</th>\n",
       "      <th>price_eur</th>\n",
       "    </tr>\n",
       "  </thead>\n",
       "  <tbody>\n",
       "    <tr>\n",
       "      <th>0</th>\n",
       "      <td>2018-01-01</td>\n",
       "      <td>3101000</td>\n",
       "    </tr>\n",
       "    <tr>\n",
       "      <th>1</th>\n",
       "      <td>2018-02-01</td>\n",
       "      <td>8054900</td>\n",
       "    </tr>\n",
       "    <tr>\n",
       "      <th>2</th>\n",
       "      <td>2018-03-01</td>\n",
       "      <td>11497600</td>\n",
       "    </tr>\n",
       "    <tr>\n",
       "      <th>3</th>\n",
       "      <td>2018-04-01</td>\n",
       "      <td>11114500</td>\n",
       "    </tr>\n",
       "    <tr>\n",
       "      <th>4</th>\n",
       "      <td>2018-05-01</td>\n",
       "      <td>12990500</td>\n",
       "    </tr>\n",
       "    <tr>\n",
       "      <th>5</th>\n",
       "      <td>2018-06-01</td>\n",
       "      <td>9260100</td>\n",
       "    </tr>\n",
       "    <tr>\n",
       "      <th>6</th>\n",
       "      <td>2018-07-01</td>\n",
       "      <td>8275900</td>\n",
       "    </tr>\n",
       "    <tr>\n",
       "      <th>7</th>\n",
       "      <td>2018-08-01</td>\n",
       "      <td>8884800</td>\n",
       "    </tr>\n",
       "    <tr>\n",
       "      <th>8</th>\n",
       "      <td>2018-09-01</td>\n",
       "      <td>3476100</td>\n",
       "    </tr>\n",
       "  </tbody>\n",
       "</table>\n",
       "</div>"
      ],
      "text/plain": [
       "   sales_date  price_eur\n",
       "0  2018-01-01    3101000\n",
       "1  2018-02-01    8054900\n",
       "2  2018-03-01   11497600\n",
       "3  2018-04-01   11114500\n",
       "4  2018-05-01   12990500\n",
       "5  2018-06-01    9260100\n",
       "6  2018-07-01    8275900\n",
       "7  2018-08-01    8884800\n",
       "8  2018-09-01    3476100"
      ]
     },
     "execution_count": 16,
     "metadata": {},
     "output_type": "execute_result"
    }
   ],
   "source": [
    "sd_sales"
   ]
  },
  {
   "cell_type": "code",
   "execution_count": 17,
   "metadata": {},
   "outputs": [
    {
     "data": {
      "image/png": "[encoded data removed]",
      "text/plain": [
       "<Figure size 1400x300 with 1 Axes>"
      ]
     },
     "metadata": {},
     "output_type": "display_data"
    },
    {
     "data": {
      "image/png": "[encoded data removed]",
      "text/plain": [
       "<Figure size 1400x300 with 1 Axes>"
      ]
     },
     "metadata": {},
     "output_type": "display_data"
    }
   ],
   "source": [
    "# subplotting\n",
    "# fig, plot = plt.subplots(2,1, figsize=(12, 8))\n",
    "\n",
    "# attributes for creating sales trend\n",
    "rd_title = \"Sales Price Trend for Registrated Period\"\n",
    "sd_title = \"Sales Price Trend for Sales Period\"\n",
    "rd_name_x = \"Registration Date\"\n",
    "sd_name_x = \"Sales Date\"\n",
    "# creating sales trend\n",
    "\n",
    "rd_trend = vis_sales_trend(rd_sales, \"registration_date\", rd_name_x, rd_title ,\"blue\")\n",
    "sd_trend = vis_sales_trend(sd_sales, \"sales_date\", sd_name_x, sd_title, \"purple\")\n"
   ]
  },
  {
   "cell_type": "markdown",
   "metadata": {},
   "source": [
    "### Feature Engineering"
   ]
  },
  {
   "cell_type": "code",
   "execution_count": 18,
   "metadata": {},
   "outputs": [
    {
     "data": {
      "text/html": [
       "<div>\n",
       "<style scoped>\n",
       "    .dataframe tbody tr th:only-of-type {\n",
       "        vertical-align: middle;\n",
       "    }\n",
       "\n",
       "    .dataframe tbody tr th {\n",
       "        vertical-align: top;\n",
       "    }\n",
       "\n",
       "    .dataframe thead th {\n",
       "        text-align: right;\n",
       "    }\n",
       "</style>\n",
       "<table border=\"1\" class=\"dataframe\">\n",
       "  <thead>\n",
       "    <tr style=\"text-align: right;\">\n",
       "      <th></th>\n",
       "      <th>model</th>\n",
       "      <th>mileage</th>\n",
       "      <th>engine_power</th>\n",
       "      <th>registration_date</th>\n",
       "      <th>fuel</th>\n",
       "      <th>paint_color</th>\n",
       "      <th>car_type</th>\n",
       "      <th>price_eur</th>\n",
       "      <th>sales_date</th>\n",
       "    </tr>\n",
       "  </thead>\n",
       "  <tbody>\n",
       "    <tr>\n",
       "      <th>0</th>\n",
       "      <td>118</td>\n",
       "      <td>140411</td>\n",
       "      <td>100</td>\n",
       "      <td>2012-02-01</td>\n",
       "      <td>diesel</td>\n",
       "      <td>black</td>\n",
       "      <td>convertible</td>\n",
       "      <td>11300</td>\n",
       "      <td>2018-01-01</td>\n",
       "    </tr>\n",
       "    <tr>\n",
       "      <th>1</th>\n",
       "      <td>M4</td>\n",
       "      <td>13929</td>\n",
       "      <td>317</td>\n",
       "      <td>2016-04-01</td>\n",
       "      <td>petrol</td>\n",
       "      <td>grey</td>\n",
       "      <td>convertible</td>\n",
       "      <td>69700</td>\n",
       "      <td>2018-02-01</td>\n",
       "    </tr>\n",
       "    <tr>\n",
       "      <th>2</th>\n",
       "      <td>320</td>\n",
       "      <td>183297</td>\n",
       "      <td>120</td>\n",
       "      <td>2012-04-01</td>\n",
       "      <td>diesel</td>\n",
       "      <td>white</td>\n",
       "      <td>convertible</td>\n",
       "      <td>10200</td>\n",
       "      <td>2018-02-01</td>\n",
       "    </tr>\n",
       "    <tr>\n",
       "      <th>3</th>\n",
       "      <td>420</td>\n",
       "      <td>128035</td>\n",
       "      <td>135</td>\n",
       "      <td>2014-07-01</td>\n",
       "      <td>diesel</td>\n",
       "      <td>red</td>\n",
       "      <td>convertible</td>\n",
       "      <td>25100</td>\n",
       "      <td>2018-02-01</td>\n",
       "    </tr>\n",
       "    <tr>\n",
       "      <th>4</th>\n",
       "      <td>425</td>\n",
       "      <td>97097</td>\n",
       "      <td>160</td>\n",
       "      <td>2014-12-01</td>\n",
       "      <td>diesel</td>\n",
       "      <td>silver</td>\n",
       "      <td>convertible</td>\n",
       "      <td>33400</td>\n",
       "      <td>2018-04-01</td>\n",
       "    </tr>\n",
       "    <tr>\n",
       "      <th>...</th>\n",
       "      <td>...</td>\n",
       "      <td>...</td>\n",
       "      <td>...</td>\n",
       "      <td>...</td>\n",
       "      <td>...</td>\n",
       "      <td>...</td>\n",
       "      <td>...</td>\n",
       "      <td>...</td>\n",
       "      <td>...</td>\n",
       "    </tr>\n",
       "    <tr>\n",
       "      <th>4838</th>\n",
       "      <td>218 Gran Tourer</td>\n",
       "      <td>39743</td>\n",
       "      <td>110</td>\n",
       "      <td>2015-10-01</td>\n",
       "      <td>diesel</td>\n",
       "      <td>black</td>\n",
       "      <td>van</td>\n",
       "      <td>14600</td>\n",
       "      <td>2018-08-01</td>\n",
       "    </tr>\n",
       "    <tr>\n",
       "      <th>4839</th>\n",
       "      <td>218 Active Tourer</td>\n",
       "      <td>49832</td>\n",
       "      <td>100</td>\n",
       "      <td>2015-06-01</td>\n",
       "      <td>diesel</td>\n",
       "      <td>grey</td>\n",
       "      <td>van</td>\n",
       "      <td>17500</td>\n",
       "      <td>2018-08-01</td>\n",
       "    </tr>\n",
       "    <tr>\n",
       "      <th>4840</th>\n",
       "      <td>218 Gran Tourer</td>\n",
       "      <td>19633</td>\n",
       "      <td>110</td>\n",
       "      <td>2015-10-01</td>\n",
       "      <td>diesel</td>\n",
       "      <td>grey</td>\n",
       "      <td>van</td>\n",
       "      <td>17000</td>\n",
       "      <td>2018-09-01</td>\n",
       "    </tr>\n",
       "    <tr>\n",
       "      <th>4841</th>\n",
       "      <td>218 Active Tourer</td>\n",
       "      <td>27920</td>\n",
       "      <td>110</td>\n",
       "      <td>2016-04-01</td>\n",
       "      <td>diesel</td>\n",
       "      <td>brown</td>\n",
       "      <td>van</td>\n",
       "      <td>22700</td>\n",
       "      <td>2018-09-01</td>\n",
       "    </tr>\n",
       "    <tr>\n",
       "      <th>4842</th>\n",
       "      <td>525</td>\n",
       "      <td>195840</td>\n",
       "      <td>160</td>\n",
       "      <td>2013-01-01</td>\n",
       "      <td>diesel</td>\n",
       "      <td>grey</td>\n",
       "      <td>van</td>\n",
       "      <td>15500</td>\n",
       "      <td>2018-09-01</td>\n",
       "    </tr>\n",
       "  </tbody>\n",
       "</table>\n",
       "<p>4843 rows × 9 columns</p>\n",
       "</div>"
      ],
      "text/plain": [
       "                  model  mileage  engine_power registration_date    fuel  \\\n",
       "0                   118   140411           100        2012-02-01  diesel   \n",
       "1                    M4    13929           317        2016-04-01  petrol   \n",
       "2                   320   183297           120        2012-04-01  diesel   \n",
       "3                   420   128035           135        2014-07-01  diesel   \n",
       "4                   425    97097           160        2014-12-01  diesel   \n",
       "...                 ...      ...           ...               ...     ...   \n",
       "4838    218 Gran Tourer    39743           110        2015-10-01  diesel   \n",
       "4839  218 Active Tourer    49832           100        2015-06-01  diesel   \n",
       "4840    218 Gran Tourer    19633           110        2015-10-01  diesel   \n",
       "4841  218 Active Tourer    27920           110        2016-04-01  diesel   \n",
       "4842                525   195840           160        2013-01-01  diesel   \n",
       "\n",
       "     paint_color     car_type  price_eur  sales_date  \n",
       "0          black  convertible      11300  2018-01-01  \n",
       "1           grey  convertible      69700  2018-02-01  \n",
       "2          white  convertible      10200  2018-02-01  \n",
       "3            red  convertible      25100  2018-02-01  \n",
       "4         silver  convertible      33400  2018-04-01  \n",
       "...          ...          ...        ...         ...  \n",
       "4838       black          van      14600  2018-08-01  \n",
       "4839        grey          van      17500  2018-08-01  \n",
       "4840        grey          van      17000  2018-09-01  \n",
       "4841       brown          van      22700  2018-09-01  \n",
       "4842        grey          van      15500  2018-09-01  \n",
       "\n",
       "[4843 rows x 9 columns]"
      ]
     },
     "execution_count": 18,
     "metadata": {},
     "output_type": "execute_result"
    }
   ],
   "source": [
    "csales_dt"
   ]
  },
  {
   "cell_type": "code",
   "execution_count": 19,
   "metadata": {},
   "outputs": [
    {
     "data": {
      "text/plain": [
       "estate         1606\n",
       "sedan          1168\n",
       "suv            1058\n",
       "hatchback       699\n",
       "subcompact      117\n",
       "coupe           104\n",
       "convertible      47\n",
       "van              44\n",
       "Name: car_type, dtype: int64"
      ]
     },
     "execution_count": 19,
     "metadata": {},
     "output_type": "execute_result"
    }
   ],
   "source": [
    "# feature exploration\n",
    "csales_dt[\"fuel\"].value_counts()\n",
    "csales_dt[\"car_type\"].value_counts()"
   ]
  },
  {
   "cell_type": "code",
   "execution_count": 20,
   "metadata": {},
   "outputs": [
    {
     "data": {
      "text/plain": [
       "320                  752\n",
       "520                  633\n",
       "318                  569\n",
       "X3                   438\n",
       "116                  358\n",
       "                    ... \n",
       "220 Active Tourer      1\n",
       "635                    1\n",
       "M135                   1\n",
       "225 Active Tourer      1\n",
       "214 Gran Tourer        1\n",
       "Name: model, Length: 75, dtype: int64"
      ]
     },
     "execution_count": 20,
     "metadata": {},
     "output_type": "execute_result"
    }
   ],
   "source": [
    "# showing all bmw models from the dataset\n",
    "csales_dt[\"model\"].value_counts()"
   ]
  },
  {
   "cell_type": "code",
   "execution_count": 21,
   "metadata": {},
   "outputs": [],
   "source": [
    "# feature engineering: featues -> fuel, \n",
    "fuel_types = pd.get_dummies(csales_dt[\"fuel\"])\n",
    "csales_dt = pd.concat([csales_dt, fuel_types], axis=1)\n",
    "csales_dt = csales_dt.drop(columns=[\"fuel\"])"
   ]
  },
  {
   "cell_type": "code",
   "execution_count": 22,
   "metadata": {},
   "outputs": [
    {
     "data": {
      "text/plain": [
       "array(['118', 'M4', '320', '420', '425', '335', '325', 'Z4', '120', '220',\n",
       "       '650', '135', '218', '318', '430', 'M3', '330', '225', 'M235',\n",
       "       '316', '435', '640', '640 Gran Coupé', '435 Gran Coupé', 'i8',\n",
       "       '630', '430 Gran Coupé', '635', '520', '525', '530', '535',\n",
       "       '320 Gran Turismo', '518', '116', '328', '523', 'X3', 'M550',\n",
       "       '528', '325 Gran Turismo', '125', '318 Gran Turismo',\n",
       "       '420 Gran Coupé', 'i3', '114', '520 Gran Turismo',\n",
       "       '530 Gran Turismo', 'M135', '418 Gran Coupé', '330 Gran Turismo',\n",
       "       '335 Gran Turismo', '730', '123', '535 Gran Turismo', '740', '750',\n",
       "       'ActiveHybrid 5', '735', 'M5', 'X5', 'X1', 'X4', 'X6', 'X6 M',\n",
       "       'X5 M', 'X5 M50', '218 Active Tourer', '218 Gran Tourer', '216',\n",
       "       '220 Active Tourer', '216 Gran Tourer', '216 Active Tourer',\n",
       "       '225 Active Tourer', '214 Gran Tourer'], dtype=object)"
      ]
     },
     "execution_count": 22,
     "metadata": {},
     "output_type": "execute_result"
    }
   ],
   "source": [
    "csales_dt[\"model\"].unique()"
   ]
  },
  {
   "cell_type": "code",
   "execution_count": 23,
   "metadata": {},
   "outputs": [],
   "source": [
    "# # extract 4 bmw models for the analysis: coupe, tourer, m, x\n",
    "# bmw_tourer = csales_dt[csales_dt[\"model\"].str.contains(\"Tourer\")]\n",
    "# bmw_m = csales_dt[csales_dt[\"model\"].str.contains(\"M\")]\n",
    "# bmw_coupe = csales_dt[csales_dt[\"model\"].str.contains(\"Coupé\")]\n",
    "# bmw_x = csales_dt[csales_dt[\"model\"].str.contains(\"X\")]\n",
    "\n",
    "# # create bmw dataframe based on 4 models above\n",
    "# bmw_data = pd.concat([bmw_tourer, bmw_coupe, bmw_m, bmw_x], axis=0)\n",
    "# # modify bmw_data index\n",
    "# bmw_data.index = np.arange(0, 1219)"
   ]
  },
  {
   "cell_type": "code",
   "execution_count": 24,
   "metadata": {},
   "outputs": [],
   "source": [
    "# calculate fuel consumption\n",
    "fuel_consumption = np.random.uniform(10.0, 35.0, 1219)\n",
    "fuel_consumption = np.around(fuel_consumption, decimals=2)\n",
    "csales_dt[\"fuel_consum_mpg\"] = pd.Series(fuel_consumption)"
   ]
  },
  {
   "cell_type": "code",
   "execution_count": 25,
   "metadata": {},
   "outputs": [],
   "source": [
    "# si units\n",
    "one_mile = 1.60934 # in km\n",
    "one_gallon = 3.78541 # in l\n",
    "fuel_cons_kml = one_mile/one_gallon\n",
    "# fuel consumption: mpl to kml\n",
    "csales_dt[\"fuel_consum_kml\"] = csales_dt[\"fuel_consum_mpg\"]*fuel_cons_kml\n",
    "csales_dt = csales_dt.drop(columns=[\"fuel_consum_mpg\"])\n",
    "csales_dt[\"fuel_consum_kml\"] = np.around(csales_dt[\"fuel_consum_kml\"], decimals=3)\n"
   ]
  },
  {
   "cell_type": "code",
   "execution_count": 26,
   "metadata": {},
   "outputs": [],
   "source": [
    "# mileage: convert mpg to km/100\n",
    "mileage_km = one_mile\n",
    "csales_dt[\"dist_travelled_p100km\"] = csales_dt[\"mileage\"] * mileage_km/100\n",
    "csales_dt[\"dist_travelled_p100km\"] = np.around(csales_dt[\"dist_travelled_p100km\"], decimals=3)\n",
    "# csales_dt = csales_dt.drop(columns=[\"mileage\"])"
   ]
  },
  {
   "cell_type": "code",
   "execution_count": 27,
   "metadata": {},
   "outputs": [
    {
     "data": {
      "text/html": [
       "<div>\n",
       "<style scoped>\n",
       "    .dataframe tbody tr th:only-of-type {\n",
       "        vertical-align: middle;\n",
       "    }\n",
       "\n",
       "    .dataframe tbody tr th {\n",
       "        vertical-align: top;\n",
       "    }\n",
       "\n",
       "    .dataframe thead th {\n",
       "        text-align: right;\n",
       "    }\n",
       "</style>\n",
       "<table border=\"1\" class=\"dataframe\">\n",
       "  <thead>\n",
       "    <tr style=\"text-align: right;\">\n",
       "      <th></th>\n",
       "      <th>model</th>\n",
       "      <th>mileage</th>\n",
       "      <th>engine_power</th>\n",
       "      <th>registration_date</th>\n",
       "      <th>paint_color</th>\n",
       "      <th>car_type</th>\n",
       "      <th>price_eur</th>\n",
       "      <th>sales_date</th>\n",
       "      <th>diesel</th>\n",
       "      <th>electro</th>\n",
       "      <th>hybrid_petrol</th>\n",
       "      <th>petrol</th>\n",
       "      <th>fuel_consum_kml</th>\n",
       "      <th>dist_travelled_p100km</th>\n",
       "    </tr>\n",
       "  </thead>\n",
       "  <tbody>\n",
       "    <tr>\n",
       "      <th>0</th>\n",
       "      <td>118</td>\n",
       "      <td>140411</td>\n",
       "      <td>100</td>\n",
       "      <td>2012-02-01</td>\n",
       "      <td>black</td>\n",
       "      <td>convertible</td>\n",
       "      <td>11300</td>\n",
       "      <td>2018-01-01</td>\n",
       "      <td>1</td>\n",
       "      <td>0</td>\n",
       "      <td>0</td>\n",
       "      <td>0</td>\n",
       "      <td>6.203</td>\n",
       "      <td>2259.690</td>\n",
       "    </tr>\n",
       "    <tr>\n",
       "      <th>1</th>\n",
       "      <td>M4</td>\n",
       "      <td>13929</td>\n",
       "      <td>317</td>\n",
       "      <td>2016-04-01</td>\n",
       "      <td>grey</td>\n",
       "      <td>convertible</td>\n",
       "      <td>69700</td>\n",
       "      <td>2018-02-01</td>\n",
       "      <td>0</td>\n",
       "      <td>0</td>\n",
       "      <td>0</td>\n",
       "      <td>1</td>\n",
       "      <td>7.066</td>\n",
       "      <td>224.165</td>\n",
       "    </tr>\n",
       "    <tr>\n",
       "      <th>2</th>\n",
       "      <td>320</td>\n",
       "      <td>183297</td>\n",
       "      <td>120</td>\n",
       "      <td>2012-04-01</td>\n",
       "      <td>white</td>\n",
       "      <td>convertible</td>\n",
       "      <td>10200</td>\n",
       "      <td>2018-02-01</td>\n",
       "      <td>1</td>\n",
       "      <td>0</td>\n",
       "      <td>0</td>\n",
       "      <td>0</td>\n",
       "      <td>9.999</td>\n",
       "      <td>2949.872</td>\n",
       "    </tr>\n",
       "    <tr>\n",
       "      <th>3</th>\n",
       "      <td>420</td>\n",
       "      <td>128035</td>\n",
       "      <td>135</td>\n",
       "      <td>2014-07-01</td>\n",
       "      <td>red</td>\n",
       "      <td>convertible</td>\n",
       "      <td>25100</td>\n",
       "      <td>2018-02-01</td>\n",
       "      <td>1</td>\n",
       "      <td>0</td>\n",
       "      <td>0</td>\n",
       "      <td>0</td>\n",
       "      <td>6.700</td>\n",
       "      <td>2060.518</td>\n",
       "    </tr>\n",
       "    <tr>\n",
       "      <th>4</th>\n",
       "      <td>425</td>\n",
       "      <td>97097</td>\n",
       "      <td>160</td>\n",
       "      <td>2014-12-01</td>\n",
       "      <td>silver</td>\n",
       "      <td>convertible</td>\n",
       "      <td>33400</td>\n",
       "      <td>2018-04-01</td>\n",
       "      <td>1</td>\n",
       "      <td>0</td>\n",
       "      <td>0</td>\n",
       "      <td>0</td>\n",
       "      <td>7.274</td>\n",
       "      <td>1562.621</td>\n",
       "    </tr>\n",
       "  </tbody>\n",
       "</table>\n",
       "</div>"
      ],
      "text/plain": [
       "  model  mileage  engine_power registration_date paint_color     car_type  \\\n",
       "0   118   140411           100        2012-02-01       black  convertible   \n",
       "1    M4    13929           317        2016-04-01        grey  convertible   \n",
       "2   320   183297           120        2012-04-01       white  convertible   \n",
       "3   420   128035           135        2014-07-01         red  convertible   \n",
       "4   425    97097           160        2014-12-01      silver  convertible   \n",
       "\n",
       "   price_eur  sales_date  diesel  electro  hybrid_petrol  petrol  \\\n",
       "0      11300  2018-01-01       1        0              0       0   \n",
       "1      69700  2018-02-01       0        0              0       1   \n",
       "2      10200  2018-02-01       1        0              0       0   \n",
       "3      25100  2018-02-01       1        0              0       0   \n",
       "4      33400  2018-04-01       1        0              0       0   \n",
       "\n",
       "   fuel_consum_kml  dist_travelled_p100km  \n",
       "0            6.203               2259.690  \n",
       "1            7.066                224.165  \n",
       "2            9.999               2949.872  \n",
       "3            6.700               2060.518  \n",
       "4            7.274               1562.621  "
      ]
     },
     "execution_count": 27,
     "metadata": {},
     "output_type": "execute_result"
    }
   ],
   "source": [
    "csales_dt.head()"
   ]
  },
  {
   "cell_type": "markdown",
   "metadata": {},
   "source": [
    "- Q1 What are the main factors that influence the sales prices of all car models? "
   ]
  },
  {
   "cell_type": "markdown",
   "metadata": {},
   "source": [
    "### Correlation Analysis"
   ]
  },
  {
   "cell_type": "code",
   "execution_count": 28,
   "metadata": {},
   "outputs": [
    {
     "data": {
      "text/html": [
       "<div>\n",
       "<style scoped>\n",
       "    .dataframe tbody tr th:only-of-type {\n",
       "        vertical-align: middle;\n",
       "    }\n",
       "\n",
       "    .dataframe tbody tr th {\n",
       "        vertical-align: top;\n",
       "    }\n",
       "\n",
       "    .dataframe thead th {\n",
       "        text-align: right;\n",
       "    }\n",
       "</style>\n",
       "<table border=\"1\" class=\"dataframe\">\n",
       "  <thead>\n",
       "    <tr style=\"text-align: right;\">\n",
       "      <th></th>\n",
       "      <th>price_eur</th>\n",
       "    </tr>\n",
       "  </thead>\n",
       "  <tbody>\n",
       "    <tr>\n",
       "      <th>mileage</th>\n",
       "      <td>-0.409564</td>\n",
       "    </tr>\n",
       "    <tr>\n",
       "      <th>engine_power</th>\n",
       "      <td>0.638989</td>\n",
       "    </tr>\n",
       "    <tr>\n",
       "      <th>price_eur</th>\n",
       "      <td>1.000000</td>\n",
       "    </tr>\n",
       "    <tr>\n",
       "      <th>diesel</th>\n",
       "      <td>0.009374</td>\n",
       "    </tr>\n",
       "    <tr>\n",
       "      <th>electro</th>\n",
       "      <td>0.013877</td>\n",
       "    </tr>\n",
       "    <tr>\n",
       "      <th>hybrid_petrol</th>\n",
       "      <td>0.095950</td>\n",
       "    </tr>\n",
       "    <tr>\n",
       "      <th>petrol</th>\n",
       "      <td>-0.031422</td>\n",
       "    </tr>\n",
       "    <tr>\n",
       "      <th>fuel_consum_kml</th>\n",
       "      <td>-0.000715</td>\n",
       "    </tr>\n",
       "    <tr>\n",
       "      <th>dist_travelled_p100km</th>\n",
       "      <td>-0.409564</td>\n",
       "    </tr>\n",
       "  </tbody>\n",
       "</table>\n",
       "</div>"
      ],
      "text/plain": [
       "                       price_eur\n",
       "mileage                -0.409564\n",
       "engine_power            0.638989\n",
       "price_eur               1.000000\n",
       "diesel                  0.009374\n",
       "electro                 0.013877\n",
       "hybrid_petrol           0.095950\n",
       "petrol                 -0.031422\n",
       "fuel_consum_kml        -0.000715\n",
       "dist_travelled_p100km  -0.409564"
      ]
     },
     "execution_count": 28,
     "metadata": {},
     "output_type": "execute_result"
    }
   ],
   "source": [
    "num_features = csales_dt.describe().columns.tolist()\n",
    "corr_an = csales_dt[num_features].corr()\n",
    "corr_an[[\"price_eur\"]]"
   ]
  },
  {
   "cell_type": "code",
   "execution_count": 29,
   "metadata": {},
   "outputs": [
    {
     "data": {
      "text/plain": [
       "count    4843.00000\n",
       "mean      128.98823\n",
       "std        38.99336\n",
       "min         0.00000\n",
       "25%       100.00000\n",
       "50%       120.00000\n",
       "75%       135.00000\n",
       "max       423.00000\n",
       "Name: engine_power, dtype: float64"
      ]
     },
     "execution_count": 29,
     "metadata": {},
     "output_type": "execute_result"
    }
   ],
   "source": [
    "# engine power\n",
    "csales_dt[\"engine_power\"].describe()"
   ]
  },
  {
   "cell_type": "code",
   "execution_count": 30,
   "metadata": {},
   "outputs": [
    {
     "data": {
      "image/png": "[encoded data removed]",
      "text/plain": [
       "<Figure size 1400x400 with 2 Axes>"
      ]
     },
     "metadata": {},
     "output_type": "display_data"
    }
   ],
   "source": [
    "# regression plot\n",
    "fig, reggplot = plt.subplots(1,2, figsize=(14,4))\n",
    "\n",
    "def regression_plot(predictor, index, labelx, color, df=csales_dt, target=\"price_eur\", labely=\"Price (EUR)\", graph=reggplot):\n",
    "  graph = sns.regplot(data=df, x=predictor, ax=graph[index], color=color, y=target)\n",
    "  graph.set_xlabel(labelx)\n",
    "  graph.set_ylabel(labely) \n",
    "  return reggplot\n",
    "\n",
    "reggplot1 = regression_plot(\"engine_power\", 0, \"Engine Power\", \"blue\")\n",
    "reggplot2 = regression_plot(\"dist_travelled_p100km\", 1, \"Distance (km)\",\"red\")\n",
    "# reggplot1 = sns.regplot(data=csales_dt, x=\"engine_power\", y=\"price_eur\", ax=reggplot[0]) \n",
    "# reggplot2 = sns.regplot(data=csales_dt, x=\"dist_travelled_km\", y=\"price_eur\", ax=reggplot[1])\n"
   ]
  },
  {
   "cell_type": "markdown",
   "metadata": {},
   "source": [
    "### Linear Regression"
   ]
  },
  {
   "cell_type": "code",
   "execution_count": 66,
   "metadata": {},
   "outputs": [],
   "source": [
    "# import machine learning libraries\n",
    "from sklearn.linear_model import LinearRegression\n",
    "from sklearn.model_selection import train_test_split\n",
    "from sklearn.metrics import mean_squared_error, r2_score"
   ]
  },
  {
   "cell_type": "code",
   "execution_count": 67,
   "metadata": {},
   "outputs": [],
   "source": [
    "# variables for model buidling\n",
    "x = csales_dt[[\"engine_power\"]]\n",
    "y = csales_dt[\"price_eur\"]"
   ]
  },
  {
   "cell_type": "code",
   "execution_count": 68,
   "metadata": {},
   "outputs": [],
   "source": [
    "y1 = pd.DataFrame(y).reset_index()\n"
   ]
  },
  {
   "cell_type": "code",
   "execution_count": 69,
   "metadata": {},
   "outputs": [],
   "source": [
    "# split training and testing sets\n",
    "x_train, x_test, y_train, y_test = train_test_split(x,y, train_size=50)"
   ]
  },
  {
   "cell_type": "code",
   "execution_count": 70,
   "metadata": {},
   "outputs": [
    {
     "data": {
      "text/plain": [
       "array([16333.45189424, 11440.68865831,  9343.79012863, ...,\n",
       "        9343.79012863, 16333.45189424, 16333.45189424])"
      ]
     },
     "execution_count": 70,
     "metadata": {},
     "output_type": "execute_result"
    }
   ],
   "source": [
    "# create a price model\n",
    "pmodel1 = LinearRegression()\n",
    "pmodel1.fit(x_train, y_train)\n",
    "# predict the price value\n",
    "price_pred = pmodel1.predict(x_test)\n",
    "price_pred"
   ]
  },
  {
   "cell_type": "code",
   "execution_count": 71,
   "metadata": {},
   "outputs": [
    {
     "name": "stdout",
     "output_type": "stream",
     "text": [
      "Mean Squared Error for Sales Price: 50794811.8767\n",
      "R-squared: 0.4047\n"
     ]
    }
   ],
   "source": [
    "# evaluate the price model\n",
    "mse = mean_squared_error(y_test, price_pred)\n",
    "r2 = r2_score(y_test, price_pred)\n",
    "print(f\"Mean Squared Error for Sales Price: {mse:.4f}\")\n",
    "print(f\"R-squared: {r2:.4f}\")"
   ]
  },
  {
   "cell_type": "code",
   "execution_count": 72,
   "metadata": {},
   "outputs": [
    {
     "data": {
      "image/png": "[encoded data removed]",
      "text/plain": [
       "<Figure size 640x480 with 1 Axes>"
      ]
     },
     "metadata": {},
     "output_type": "display_data"
    }
   ],
   "source": [
    "# visualise the sales price data with predicted price data\n",
    "plt.scatter(y_test, price_pred)\n",
    "plt.plot(np.arange(0,70000), color=\"black\")\n",
    "plt.xlabel(\"Engine Power\")\n",
    "plt.ylabel(\"Price (EUR)\")\n",
    "plt.show()"
   ]
  },
  {
   "cell_type": "code",
   "execution_count": 73,
   "metadata": {},
   "outputs": [
    {
     "data": {
      "text/html": [
       "<style>#sk-container-id-2 {color: black;}#sk-container-id-2 pre{padding: 0;}#sk-container-id-2 div.sk-toggleable {background-color: white;}#sk-container-id-2 label.sk-toggleable__label {cursor: pointer;display: block;width: 100%;margin-bottom: 0;padding: 0.3em;box-sizing: border-box;text-align: center;}#sk-container-id-2 label.sk-toggleable__label-arrow:before {content: \"▸\";float: left;margin-right: 0.25em;color: #696969;}#sk-container-id-2 label.sk-toggleable__label-arrow:hover:before {color: black;}#sk-container-id-2 div.sk-estimator:hover label.sk-toggleable__label-arrow:before {color: black;}#sk-container-id-2 div.sk-toggleable__content {max-height: 0;max-width: 0;overflow: hidden;text-align: left;background-color: #f0f8ff;}#sk-container-id-2 div.sk-toggleable__content pre {margin: 0.2em;color: black;border-radius: 0.25em;background-color: #f0f8ff;}#sk-container-id-2 input.sk-toggleable__control:checked~div.sk-toggleable__content {max-height: 200px;max-width: 100%;overflow: auto;}#sk-container-id-2 input.sk-toggleable__control:checked~label.sk-toggleable__label-arrow:before {content: \"▾\";}#sk-container-id-2 div.sk-estimator input.sk-toggleable__control:checked~label.sk-toggleable__label {background-color: #d4ebff;}#sk-container-id-2 div.sk-label input.sk-toggleable__control:checked~label.sk-toggleable__label {background-color: #d4ebff;}#sk-container-id-2 input.sk-hidden--visually {border: 0;clip: rect(1px 1px 1px 1px);clip: rect(1px, 1px, 1px, 1px);height: 1px;margin: -1px;overflow: hidden;padding: 0;position: absolute;width: 1px;}#sk-container-id-2 div.sk-estimator {font-family: monospace;background-color: #f0f8ff;border: 1px dotted black;border-radius: 0.25em;box-sizing: border-box;margin-bottom: 0.5em;}#sk-container-id-2 div.sk-estimator:hover {background-color: #d4ebff;}#sk-container-id-2 div.sk-parallel-item::after {content: \"\";width: 100%;border-bottom: 1px solid gray;flex-grow: 1;}#sk-container-id-2 div.sk-label:hover label.sk-toggleable__label {background-color: #d4ebff;}#sk-container-id-2 div.sk-serial::before {content: \"\";position: absolute;border-left: 1px solid gray;box-sizing: border-box;top: 0;bottom: 0;left: 50%;z-index: 0;}#sk-container-id-2 div.sk-serial {display: flex;flex-direction: column;align-items: center;background-color: white;padding-right: 0.2em;padding-left: 0.2em;position: relative;}#sk-container-id-2 div.sk-item {position: relative;z-index: 1;}#sk-container-id-2 div.sk-parallel {display: flex;align-items: stretch;justify-content: center;background-color: white;position: relative;}#sk-container-id-2 div.sk-item::before, #sk-container-id-2 div.sk-parallel-item::before {content: \"\";position: absolute;border-left: 1px solid gray;box-sizing: border-box;top: 0;bottom: 0;left: 50%;z-index: -1;}#sk-container-id-2 div.sk-parallel-item {display: flex;flex-direction: column;z-index: 1;position: relative;background-color: white;}#sk-container-id-2 div.sk-parallel-item:first-child::after {align-self: flex-end;width: 50%;}#sk-container-id-2 div.sk-parallel-item:last-child::after {align-self: flex-start;width: 50%;}#sk-container-id-2 div.sk-parallel-item:only-child::after {width: 0;}#sk-container-id-2 div.sk-dashed-wrapped {border: 1px dashed gray;margin: 0 0.4em 0.5em 0.4em;box-sizing: border-box;padding-bottom: 0.4em;background-color: white;}#sk-container-id-2 div.sk-label label {font-family: monospace;font-weight: bold;display: inline-block;line-height: 1.2em;}#sk-container-id-2 div.sk-label-container {text-align: center;}#sk-container-id-2 div.sk-container {/* jupyter's `normalize.less` sets `[hidden] { display: none; }` but bootstrap.min.css set `[hidden] { display: none !important; }` so we also need the `!important` here to be able to override the default hidden behavior on the sphinx rendered scikit-learn.org. See: https://github.com/scikit-learn/scikit-learn/issues/21755 */display: inline-block !important;position: relative;}#sk-container-id-2 div.sk-text-repr-fallback {display: none;}</style><div id=\"sk-container-id-2\" class=\"sk-top-container\"><div class=\"sk-text-repr-fallback\"><pre>LinearRegression()</pre><b>In a Jupyter environment, please rerun this cell to show the HTML representation or trust the notebook. <br />On GitHub, the HTML representation is unable to render, please try loading this page with nbviewer.org.</b></div><div class=\"sk-container\" hidden><div class=\"sk-item\"><div class=\"sk-estimator sk-toggleable\"><input class=\"sk-toggleable__control sk-hidden--visually\" id=\"sk-estimator-id-2\" type=\"checkbox\" checked><label for=\"sk-estimator-id-2\" class=\"sk-toggleable__label sk-toggleable__label-arrow\">LinearRegression</label><div class=\"sk-toggleable__content\"><pre>LinearRegression()</pre></div></div></div></div></div>"
      ],
      "text/plain": [
       "LinearRegression()"
      ]
     },
     "execution_count": 73,
     "metadata": {},
     "output_type": "execute_result"
    }
   ],
   "source": [
    "# create instance variables for model building\n",
    "x2 = csales_dt[[\"engine_power\"]].iloc[0:500]\n",
    "y2 = csales_dt[\"price_eur\"].iloc[0:500]\n",
    "\n",
    "# create model 2\n",
    "x_train, x_test, y_train, y_test = train_test_split(x2, y2, train_size=100 )\n",
    "model2 = LinearRegression()\n",
    "model2.fit(x_train, y_train)"
   ]
  },
  {
   "cell_type": "code",
   "execution_count": 74,
   "metadata": {},
   "outputs": [],
   "source": [
    "# calculate price prediction on model 2\n",
    "price_pred2 = model2.predict(x_test)"
   ]
  },
  {
   "cell_type": "code",
   "execution_count": 75,
   "metadata": {},
   "outputs": [
    {
     "name": "stdout",
     "output_type": "stream",
     "text": [
      "x training data size: training data (100, 400)\n",
      "y training data size: training data (100, 400)\n"
     ]
    }
   ],
   "source": [
    "# size of test and train data\n",
    "size_x = x_train.size, x_test.size\n",
    "size_y = y_train.size, y_test.size\n",
    "print(f\"x training data size: training data {size_x[0], size_x[1]}\")\n",
    "print(f\"y training data size: training data {size_y[0], size_y[1]}\")"
   ]
  },
  {
   "cell_type": "code",
   "execution_count": 76,
   "metadata": {},
   "outputs": [
    {
     "name": "stdout",
     "output_type": "stream",
     "text": [
      "Mean Squared Error for model 2: 61224165.03525108\n",
      "R-squared for model 2: 0.28756559274058147\n"
     ]
    }
   ],
   "source": [
    "# determine mean squared error + r-squared\n",
    "mse = mean_squared_error(y_test, price_pred2)\n",
    "r2 = r2_score(y_test, price_pred2)\n",
    "print(f\"Mean Squared Error for model 2: {mse}\")\n",
    "print(f\"R-squared for model 2: {r2}\")"
   ]
  },
  {
   "cell_type": "code",
   "execution_count": 77,
   "metadata": {},
   "outputs": [
    {
     "data": {
      "image/png": "[encoded data removed]",
      "text/plain": [
       "<Figure size 640x480 with 1 Axes>"
      ]
     },
     "metadata": {},
     "output_type": "display_data"
    }
   ],
   "source": [
    "# visualise linear regression model\n",
    "plt.scatter(y_test, price_pred2)\n",
    "plt.plot(np.arange(0,50000), color=\"black\")\n",
    "plt.xlabel(\"Engine Power\")\n",
    "plt.ylabel(\"Price (EUR)\")\n",
    "plt.show()"
   ]
  },
  {
   "cell_type": "code",
   "execution_count": 79,
   "metadata": {},
   "outputs": [
    {
     "data": {
      "text/plain": [
       "119    27600\n",
       "145    12800\n",
       "59     19000\n",
       "74     22400\n",
       "328    15800\n",
       "       ...  \n",
       "244    11900\n",
       "471    21400\n",
       "49      8400\n",
       "212    12600\n",
       "401    15700\n",
       "Name: price_eur, Length: 400, dtype: int64"
      ]
     },
     "execution_count": 79,
     "metadata": {},
     "output_type": "execute_result"
    }
   ],
   "source": [
    "y_mean = y_test\n",
    "y_pred = pd.Series(price_pred2)\n",
    "error = y_pred - y_mean\n",
    "y_mean.size, y_pred.size\n",
    "y_mean"
   ]
  },
  {
   "cell_type": "code",
   "execution_count": 80,
   "metadata": {},
   "outputs": [
    {
     "data": {
      "text/plain": [
       "0      12942.893866\n",
       "1      15177.959236\n",
       "2      15177.959236\n",
       "3      15177.959236\n",
       "4      15177.959236\n",
       "           ...     \n",
       "395    15922.981026\n",
       "396     9962.806706\n",
       "397     9962.806706\n",
       "398     7727.741337\n",
       "399    17413.024606\n",
       "Length: 400, dtype: float64"
      ]
     },
     "execution_count": 80,
     "metadata": {},
     "output_type": "execute_result"
    }
   ],
   "source": [
    "y_pred"
   ]
  },
  {
   "cell_type": "code",
   "execution_count": null,
   "metadata": {},
   "outputs": [],
   "source": []
  },
  {
   "cell_type": "code",
   "execution_count": null,
   "metadata": {},
   "outputs": [],
   "source": []
  }
 ],
 "metadata": {
  "kernelspec": {
   "display_name": "base",
   "language": "python",
   "name": "python3"
  },
  "language_info": {
   "codemirror_mode": {
    "name": "ipython",
    "version": 3
   },
   "file_extension": ".py",
   "mimetype": "text/x-python",
   "name": "python",
   "nbconvert_exporter": "python",
   "pygments_lexer": "ipython3",
   "version": "3.11.4"
  }
 },
 "nbformat": 4,
 "nbformat_minor": 2
}
